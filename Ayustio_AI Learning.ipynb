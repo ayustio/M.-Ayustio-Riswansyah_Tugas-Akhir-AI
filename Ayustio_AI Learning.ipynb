{
 "cells": [
  {
   "cell_type": "code",
   "execution_count": 12,
   "id": "84d27ab0-e7b8-4436-bc3b-01d7bae1b8a9",
   "metadata": {},
   "outputs": [
    {
     "name": "stdout",
     "output_type": "stream",
     "text": [
      "Akurasi model: 0.8333333333333334\n",
      "\n",
      "Laporan klasifikasi:\n",
      "               precision    recall  f1-score   support\n",
      "\n",
      "   anorganik       0.75      1.00      0.86         3\n",
      "     organik       1.00      0.67      0.80         3\n",
      "\n",
      "    accuracy                           0.83         6\n",
      "   macro avg       0.88      0.83      0.83         6\n",
      "weighted avg       0.88      0.83      0.83         6\n",
      "\n",
      "\n",
      "Prediksi jenis sampah (contoh data):\n",
      "'kulit pisang' → organik\n",
      "'botol kaca' → anorganik\n",
      "'kotak pizza' → anorganik\n",
      "'daun kering' → organik\n",
      "\n",
      "=== Klasifikasi Sampah dari Input Pengguna ===\n"
     ]
    },
    {
     "name": "stdin",
     "output_type": "stream",
     "text": [
      "Masukkan nama benda (atau ketik 'keluar' untuk berhenti):  botol\n"
     ]
    },
    {
     "name": "stdout",
     "output_type": "stream",
     "text": [
      "Hasil prediksi: 'botol' termasuk jenis sampah → anorganik\n",
      "\n"
     ]
    },
    {
     "name": "stdin",
     "output_type": "stream",
     "text": [
      "Masukkan nama benda (atau ketik 'keluar' untuk berhenti):  mangga\n"
     ]
    },
    {
     "name": "stdout",
     "output_type": "stream",
     "text": [
      "Maaf, kata 'mangga' tidak dikenali dalam data pelatihan. Tidak dapat memprediksi.\n",
      "\n"
     ]
    },
    {
     "name": "stdin",
     "output_type": "stream",
     "text": [
      "Masukkan nama benda (atau ketik 'keluar' untuk berhenti):  kayu\n"
     ]
    },
    {
     "name": "stdout",
     "output_type": "stream",
     "text": [
      "Maaf, kata 'kayu' tidak dikenali dalam data pelatihan. Tidak dapat memprediksi.\n",
      "\n"
     ]
    },
    {
     "ename": "KeyboardInterrupt",
     "evalue": "Interrupted by user",
     "output_type": "error",
     "traceback": [
      "\u001b[1;31m---------------------------------------------------------------------------\u001b[0m",
      "\u001b[1;31mKeyboardInterrupt\u001b[0m                         Traceback (most recent call last)",
      "Cell \u001b[1;32mIn[12], line 43\u001b[0m\n\u001b[0;32m     41\u001b[0m \u001b[38;5;28mprint\u001b[39m(\u001b[38;5;124m\"\u001b[39m\u001b[38;5;130;01m\\n\u001b[39;00m\u001b[38;5;124m=== Klasifikasi Sampah dari Input Pengguna ===\u001b[39m\u001b[38;5;124m\"\u001b[39m)\n\u001b[0;32m     42\u001b[0m \u001b[38;5;28;01mwhile\u001b[39;00m \u001b[38;5;28;01mTrue\u001b[39;00m:\n\u001b[1;32m---> 43\u001b[0m     masukan \u001b[38;5;241m=\u001b[39m \u001b[38;5;28minput\u001b[39m(\u001b[38;5;124m\"\u001b[39m\u001b[38;5;124mMasukkan nama benda (atau ketik \u001b[39m\u001b[38;5;124m'\u001b[39m\u001b[38;5;124mkeluar\u001b[39m\u001b[38;5;124m'\u001b[39m\u001b[38;5;124m untuk berhenti): \u001b[39m\u001b[38;5;124m\"\u001b[39m)\u001b[38;5;241m.\u001b[39mstrip()\n\u001b[0;32m     44\u001b[0m     \u001b[38;5;28;01mif\u001b[39;00m masukan\u001b[38;5;241m.\u001b[39mlower() \u001b[38;5;241m==\u001b[39m \u001b[38;5;124m'\u001b[39m\u001b[38;5;124mkeluar\u001b[39m\u001b[38;5;124m'\u001b[39m:\n\u001b[0;32m     45\u001b[0m         \u001b[38;5;28mprint\u001b[39m(\u001b[38;5;124m\"\u001b[39m\u001b[38;5;124mProgram selesai.\u001b[39m\u001b[38;5;124m\"\u001b[39m)\n",
      "File \u001b[1;32m~\\anaconda3\\Lib\\site-packages\\ipykernel\\kernelbase.py:1262\u001b[0m, in \u001b[0;36mKernel.raw_input\u001b[1;34m(self, prompt)\u001b[0m\n\u001b[0;32m   1260\u001b[0m     msg \u001b[38;5;241m=\u001b[39m \u001b[38;5;124m\"\u001b[39m\u001b[38;5;124mraw_input was called, but this frontend does not support input requests.\u001b[39m\u001b[38;5;124m\"\u001b[39m\n\u001b[0;32m   1261\u001b[0m     \u001b[38;5;28;01mraise\u001b[39;00m StdinNotImplementedError(msg)\n\u001b[1;32m-> 1262\u001b[0m \u001b[38;5;28;01mreturn\u001b[39;00m \u001b[38;5;28mself\u001b[39m\u001b[38;5;241m.\u001b[39m_input_request(\n\u001b[0;32m   1263\u001b[0m     \u001b[38;5;28mstr\u001b[39m(prompt),\n\u001b[0;32m   1264\u001b[0m     \u001b[38;5;28mself\u001b[39m\u001b[38;5;241m.\u001b[39m_parent_ident[\u001b[38;5;124m\"\u001b[39m\u001b[38;5;124mshell\u001b[39m\u001b[38;5;124m\"\u001b[39m],\n\u001b[0;32m   1265\u001b[0m     \u001b[38;5;28mself\u001b[39m\u001b[38;5;241m.\u001b[39mget_parent(\u001b[38;5;124m\"\u001b[39m\u001b[38;5;124mshell\u001b[39m\u001b[38;5;124m\"\u001b[39m),\n\u001b[0;32m   1266\u001b[0m     password\u001b[38;5;241m=\u001b[39m\u001b[38;5;28;01mFalse\u001b[39;00m,\n\u001b[0;32m   1267\u001b[0m )\n",
      "File \u001b[1;32m~\\anaconda3\\Lib\\site-packages\\ipykernel\\kernelbase.py:1305\u001b[0m, in \u001b[0;36mKernel._input_request\u001b[1;34m(self, prompt, ident, parent, password)\u001b[0m\n\u001b[0;32m   1302\u001b[0m \u001b[38;5;28;01mexcept\u001b[39;00m \u001b[38;5;167;01mKeyboardInterrupt\u001b[39;00m:\n\u001b[0;32m   1303\u001b[0m     \u001b[38;5;66;03m# re-raise KeyboardInterrupt, to truncate traceback\u001b[39;00m\n\u001b[0;32m   1304\u001b[0m     msg \u001b[38;5;241m=\u001b[39m \u001b[38;5;124m\"\u001b[39m\u001b[38;5;124mInterrupted by user\u001b[39m\u001b[38;5;124m\"\u001b[39m\n\u001b[1;32m-> 1305\u001b[0m     \u001b[38;5;28;01mraise\u001b[39;00m \u001b[38;5;167;01mKeyboardInterrupt\u001b[39;00m(msg) \u001b[38;5;28;01mfrom\u001b[39;00m \u001b[38;5;28;01mNone\u001b[39;00m\n\u001b[0;32m   1306\u001b[0m \u001b[38;5;28;01mexcept\u001b[39;00m \u001b[38;5;167;01mException\u001b[39;00m:\n\u001b[0;32m   1307\u001b[0m     \u001b[38;5;28mself\u001b[39m\u001b[38;5;241m.\u001b[39mlog\u001b[38;5;241m.\u001b[39mwarning(\u001b[38;5;124m\"\u001b[39m\u001b[38;5;124mInvalid Message:\u001b[39m\u001b[38;5;124m\"\u001b[39m, exc_info\u001b[38;5;241m=\u001b[39m\u001b[38;5;28;01mTrue\u001b[39;00m)\n",
      "\u001b[1;31mKeyboardInterrupt\u001b[0m: Interrupted by user"
     ]
    },
    {
     "name": "stdin",
     "output_type": "stream",
     "text": [
      "Masukkan nama benda (atau ketik 'keluar' untuk berhenti):  keluar\n"
     ]
    }
   ],
   "source": [
    "import pandas as pd\n",
    "from sklearn.model_selection import train_test_split\n",
    "from sklearn.feature_extraction.text import CountVectorizer\n",
    "from sklearn.neighbors import KNeighborsClassifier\n",
    "from sklearn.metrics import classification_report, accuracy_score\n",
    "\n",
    "# 1. Membaca data dari file CSV\n",
    "data = pd.read_csv('waste_lengkap (1).csv') \n",
    "data = data[['name', 'label']].dropna()\n",
    "\n",
    "# 2. Memisahkan fitur dan label\n",
    "X = data['name']\n",
    "y = data['label']\n",
    "\n",
    "# 3. Membagi data menjadi data latih dan uji\n",
    "X_latih, X_uji, y_latih, y_uji = train_test_split(X, y, test_size=0.2, random_state=42, stratify=y)\n",
    "\n",
    "# 4. Konversi teks ke vektor angka\n",
    "vektorizer = CountVectorizer()\n",
    "X_latih_vec = vektorizer.fit_transform(X_latih)\n",
    "X_uji_vec = vektorizer.transform(X_uji)\n",
    "\n",
    "# 5. Latih model KNN (K=3 bisa disesuaikan)\n",
    "model = KNeighborsClassifier(n_neighbors=3)\n",
    "model.fit(X_latih_vec, y_latih)\n",
    "\n",
    "# 6. Evaluasi model\n",
    "y_prediksi = model.predict(X_uji_vec)\n",
    "print(\"Akurasi model:\", accuracy_score(y_uji, y_prediksi))\n",
    "print(\"\\nLaporan klasifikasi:\\n\", classification_report(y_uji, y_prediksi))\n",
    "\n",
    "# 7. Prediksi daftar benda (statis)\n",
    "daftar_benda = [\"kulit pisang\", \"botol kaca\", \"kotak pizza\", \"daun kering\"]\n",
    "print(\"\\nPrediksi jenis sampah (contoh data):\")\n",
    "for benda in daftar_benda:\n",
    "    vektor = vektorizer.transform([benda])\n",
    "    prediksi = model.predict(vektor)[0]\n",
    "    print(f\"'{benda}' → {prediksi}\")\n",
    "\n",
    "# 8. Prediksi dari input pengguna\n",
    "print(\"\\n=== Klasifikasi Sampah dari Input Pengguna ===\")\n",
    "while True:\n",
    "    masukan = input(\"Masukkan nama benda (atau ketik 'keluar' untuk berhenti): \").strip()\n",
    "    if masukan.lower() == 'keluar':\n",
    "        print(\"Program selesai.\")\n",
    "        break\n",
    "\n",
    "    vektor_input = vektorizer.transform([masukan])\n",
    "    if vektor_input.nnz == 0:\n",
    "        print(f\"Maaf, kata '{masukan}' tidak dikenali dalam data pelatihan. Tidak dapat memprediksi.\\n\")\n",
    "        continue\n",
    "\n",
    "    hasil = model.predict(vektor_input)[0]\n",
    "    print(f\"Hasil prediksi: '{masukan}' termasuk jenis sampah → {hasil}\\n\")"
   ]
  },
  {
   "cell_type": "code",
   "execution_count": 16,
   "id": "b4e45d21-9589-403b-b0b4-7d06b5662f69",
   "metadata": {},
   "outputs": [
    {
     "name": "stderr",
     "output_type": "stream",
     "text": [
      "C:\\Users\\ASUS\\anaconda3\\Lib\\site-packages\\sklearn\\metrics\\_classification.py:1531: UndefinedMetricWarning: Precision is ill-defined and being set to 0.0 in labels with no predicted samples. Use `zero_division` parameter to control this behavior.\n",
      "  _warn_prf(average, modifier, f\"{metric.capitalize()} is\", len(result))\n",
      "C:\\Users\\ASUS\\anaconda3\\Lib\\site-packages\\sklearn\\metrics\\_classification.py:1531: UndefinedMetricWarning: Precision is ill-defined and being set to 0.0 in labels with no predicted samples. Use `zero_division` parameter to control this behavior.\n",
      "  _warn_prf(average, modifier, f\"{metric.capitalize()} is\", len(result))\n",
      "C:\\Users\\ASUS\\anaconda3\\Lib\\site-packages\\sklearn\\metrics\\_classification.py:1531: UndefinedMetricWarning: Precision is ill-defined and being set to 0.0 in labels with no predicted samples. Use `zero_division` parameter to control this behavior.\n",
      "  _warn_prf(average, modifier, f\"{metric.capitalize()} is\", len(result))\n"
     ]
    },
    {
     "name": "stdout",
     "output_type": "stream",
     "text": [
      "Akurasi model: 0.5\n",
      "\n",
      "Laporan klasifikasi:\n",
      "               precision    recall  f1-score   support\n",
      "\n",
      "   anorganik       0.50      1.00      0.67         4\n",
      "     organik       0.00      0.00      0.00         4\n",
      "\n",
      "    accuracy                           0.50         8\n",
      "   macro avg       0.25      0.50      0.33         8\n",
      "weighted avg       0.25      0.50      0.33         8\n",
      "\n",
      "\n",
      "Prediksi jenis sampah (contoh data):\n",
      "'kulit pisang' → organik\n",
      "'botol kaca' → anorganik\n",
      "'kotak pizza' → anorganik\n",
      "'daun kering' → anorganik\n",
      "\n",
      "=== Klasifikasi Sampah dari Input Pengguna ===\n"
     ]
    },
    {
     "name": "stdin",
     "output_type": "stream",
     "text": [
      "Masukkan nama benda (atau ketik 'keluar' untuk berhenti):  mangga\n"
     ]
    },
    {
     "name": "stdout",
     "output_type": "stream",
     "text": [
      "Hasil prediksi: 'mangga' termasuk jenis sampah → anorganik\n",
      "\n"
     ]
    },
    {
     "ename": "KeyboardInterrupt",
     "evalue": "Interrupted by user",
     "output_type": "error",
     "traceback": [
      "\u001b[1;31m---------------------------------------------------------------------------\u001b[0m",
      "\u001b[1;31mKeyboardInterrupt\u001b[0m                         Traceback (most recent call last)",
      "Cell \u001b[1;32mIn[16], line 43\u001b[0m\n\u001b[0;32m     41\u001b[0m \u001b[38;5;28mprint\u001b[39m(\u001b[38;5;124m\"\u001b[39m\u001b[38;5;130;01m\\n\u001b[39;00m\u001b[38;5;124m=== Klasifikasi Sampah dari Input Pengguna ===\u001b[39m\u001b[38;5;124m\"\u001b[39m)\n\u001b[0;32m     42\u001b[0m \u001b[38;5;28;01mwhile\u001b[39;00m \u001b[38;5;28;01mTrue\u001b[39;00m:\n\u001b[1;32m---> 43\u001b[0m     masukan \u001b[38;5;241m=\u001b[39m \u001b[38;5;28minput\u001b[39m(\u001b[38;5;124m\"\u001b[39m\u001b[38;5;124mMasukkan nama benda (atau ketik \u001b[39m\u001b[38;5;124m'\u001b[39m\u001b[38;5;124mkeluar\u001b[39m\u001b[38;5;124m'\u001b[39m\u001b[38;5;124m untuk berhenti): \u001b[39m\u001b[38;5;124m\"\u001b[39m)\u001b[38;5;241m.\u001b[39mstrip()\n\u001b[0;32m     44\u001b[0m     \u001b[38;5;28;01mif\u001b[39;00m masukan\u001b[38;5;241m.\u001b[39mlower() \u001b[38;5;241m==\u001b[39m \u001b[38;5;124m'\u001b[39m\u001b[38;5;124mkeluar\u001b[39m\u001b[38;5;124m'\u001b[39m:\n\u001b[0;32m     45\u001b[0m         \u001b[38;5;28mprint\u001b[39m(\u001b[38;5;124m\"\u001b[39m\u001b[38;5;124mProgram selesai.\u001b[39m\u001b[38;5;124m\"\u001b[39m)\n",
      "File \u001b[1;32m~\\anaconda3\\Lib\\site-packages\\ipykernel\\kernelbase.py:1262\u001b[0m, in \u001b[0;36mKernel.raw_input\u001b[1;34m(self, prompt)\u001b[0m\n\u001b[0;32m   1260\u001b[0m     msg \u001b[38;5;241m=\u001b[39m \u001b[38;5;124m\"\u001b[39m\u001b[38;5;124mraw_input was called, but this frontend does not support input requests.\u001b[39m\u001b[38;5;124m\"\u001b[39m\n\u001b[0;32m   1261\u001b[0m     \u001b[38;5;28;01mraise\u001b[39;00m StdinNotImplementedError(msg)\n\u001b[1;32m-> 1262\u001b[0m \u001b[38;5;28;01mreturn\u001b[39;00m \u001b[38;5;28mself\u001b[39m\u001b[38;5;241m.\u001b[39m_input_request(\n\u001b[0;32m   1263\u001b[0m     \u001b[38;5;28mstr\u001b[39m(prompt),\n\u001b[0;32m   1264\u001b[0m     \u001b[38;5;28mself\u001b[39m\u001b[38;5;241m.\u001b[39m_parent_ident[\u001b[38;5;124m\"\u001b[39m\u001b[38;5;124mshell\u001b[39m\u001b[38;5;124m\"\u001b[39m],\n\u001b[0;32m   1265\u001b[0m     \u001b[38;5;28mself\u001b[39m\u001b[38;5;241m.\u001b[39mget_parent(\u001b[38;5;124m\"\u001b[39m\u001b[38;5;124mshell\u001b[39m\u001b[38;5;124m\"\u001b[39m),\n\u001b[0;32m   1266\u001b[0m     password\u001b[38;5;241m=\u001b[39m\u001b[38;5;28;01mFalse\u001b[39;00m,\n\u001b[0;32m   1267\u001b[0m )\n",
      "File \u001b[1;32m~\\anaconda3\\Lib\\site-packages\\ipykernel\\kernelbase.py:1305\u001b[0m, in \u001b[0;36mKernel._input_request\u001b[1;34m(self, prompt, ident, parent, password)\u001b[0m\n\u001b[0;32m   1302\u001b[0m \u001b[38;5;28;01mexcept\u001b[39;00m \u001b[38;5;167;01mKeyboardInterrupt\u001b[39;00m:\n\u001b[0;32m   1303\u001b[0m     \u001b[38;5;66;03m# re-raise KeyboardInterrupt, to truncate traceback\u001b[39;00m\n\u001b[0;32m   1304\u001b[0m     msg \u001b[38;5;241m=\u001b[39m \u001b[38;5;124m\"\u001b[39m\u001b[38;5;124mInterrupted by user\u001b[39m\u001b[38;5;124m\"\u001b[39m\n\u001b[1;32m-> 1305\u001b[0m     \u001b[38;5;28;01mraise\u001b[39;00m \u001b[38;5;167;01mKeyboardInterrupt\u001b[39;00m(msg) \u001b[38;5;28;01mfrom\u001b[39;00m \u001b[38;5;28;01mNone\u001b[39;00m\n\u001b[0;32m   1306\u001b[0m \u001b[38;5;28;01mexcept\u001b[39;00m \u001b[38;5;167;01mException\u001b[39;00m:\n\u001b[0;32m   1307\u001b[0m     \u001b[38;5;28mself\u001b[39m\u001b[38;5;241m.\u001b[39mlog\u001b[38;5;241m.\u001b[39mwarning(\u001b[38;5;124m\"\u001b[39m\u001b[38;5;124mInvalid Message:\u001b[39m\u001b[38;5;124m\"\u001b[39m, exc_info\u001b[38;5;241m=\u001b[39m\u001b[38;5;28;01mTrue\u001b[39;00m)\n",
      "\u001b[1;31mKeyboardInterrupt\u001b[0m: Interrupted by user"
     ]
    }
   ],
   "source": [
    "import pandas as pd\n",
    "from sklearn.model_selection import train_test_split\n",
    "from sklearn.feature_extraction.text import CountVectorizer\n",
    "from sklearn.neighbors import KNeighborsClassifier\n",
    "from sklearn.metrics import classification_report, accuracy_score\n",
    "\n",
    "# 1. Membaca data dari file CSV\n",
    "data = pd.read_csv('waste_lengkap (2).csv') \n",
    "data = data[['name', 'label']].dropna()\n",
    "\n",
    "# 2. Memisahkan fitur dan label\n",
    "X = data['name']\n",
    "y = data['label']\n",
    "\n",
    "# 3. Membagi data menjadi data latih dan uji\n",
    "X_latih, X_uji, y_latih, y_uji = train_test_split(X, y, test_size=0.2, random_state=42, stratify=y)\n",
    "\n",
    "# 4. Konversi teks ke vektor angka\n",
    "vektorizer = CountVectorizer()\n",
    "X_latih_vec = vektorizer.fit_transform(X_latih)\n",
    "X_uji_vec = vektorizer.transform(X_uji)\n",
    "\n",
    "# 5. Latih model KNN (K=3 bisa disesuaikan)\n",
    "model = KNeighborsClassifier(n_neighbors=3)\n",
    "model.fit(X_latih_vec, y_latih)\n",
    "\n",
    "# 6. Evaluasi model\n",
    "y_prediksi = model.predict(X_uji_vec)\n",
    "print(\"Akurasi model:\", accuracy_score(y_uji, y_prediksi))\n",
    "print(\"\\nLaporan klasifikasi:\\n\", classification_report(y_uji, y_prediksi))\n",
    "\n",
    "# 7. Prediksi daftar benda (statis)\n",
    "daftar_benda = [\"kulit pisang\", \"botol kaca\", \"kotak pizza\", \"daun kering\"]\n",
    "print(\"\\nPrediksi jenis sampah (contoh data):\")\n",
    "for benda in daftar_benda:\n",
    "    vektor = vektorizer.transform([benda])\n",
    "    prediksi = model.predict(vektor)[0]\n",
    "    print(f\"'{benda}' → {prediksi}\")\n",
    "\n",
    "# 8. Prediksi dari input pengguna\n",
    "print(\"\\n=== Klasifikasi Sampah dari Input Pengguna ===\")\n",
    "while True:\n",
    "    masukan = input(\"Masukkan nama benda (atau ketik 'keluar' untuk berhenti): \").strip()\n",
    "    if masukan.lower() == 'keluar':\n",
    "        print(\"Program selesai.\")\n",
    "        break\n",
    "\n",
    "    vektor_input = vektorizer.transform([masukan])\n",
    "    if vektor_input.nnz == 0:\n",
    "        print(f\"Maaf, kata '{masukan}' tidak dikenali dalam data pelatihan. Tidak dapat memprediksi.\\n\")\n",
    "        continue\n",
    "\n",
    "    hasil = model.predict(vektor_input)[0]\n",
    "    print(f\"Hasil prediksi: '{masukan}' termasuk jenis sampah → {hasil}\\n\")"
   ]
  },
  {
   "cell_type": "code",
   "execution_count": 20,
   "id": "3d28459f-dc4e-42fd-a29a-f3cfeeb45e5a",
   "metadata": {},
   "outputs": [
    {
     "name": "stderr",
     "output_type": "stream",
     "text": [
      "C:\\Users\\ASUS\\anaconda3\\Lib\\site-packages\\sklearn\\metrics\\_classification.py:1531: UndefinedMetricWarning: Precision is ill-defined and being set to 0.0 in labels with no predicted samples. Use `zero_division` parameter to control this behavior.\n",
      "  _warn_prf(average, modifier, f\"{metric.capitalize()} is\", len(result))\n",
      "C:\\Users\\ASUS\\anaconda3\\Lib\\site-packages\\sklearn\\metrics\\_classification.py:1531: UndefinedMetricWarning: Precision is ill-defined and being set to 0.0 in labels with no predicted samples. Use `zero_division` parameter to control this behavior.\n",
      "  _warn_prf(average, modifier, f\"{metric.capitalize()} is\", len(result))\n",
      "C:\\Users\\ASUS\\anaconda3\\Lib\\site-packages\\sklearn\\metrics\\_classification.py:1531: UndefinedMetricWarning: Precision is ill-defined and being set to 0.0 in labels with no predicted samples. Use `zero_division` parameter to control this behavior.\n",
      "  _warn_prf(average, modifier, f\"{metric.capitalize()} is\", len(result))\n"
     ]
    },
    {
     "name": "stdout",
     "output_type": "stream",
     "text": [
      "Akurasi model: 0.7142857142857143\n",
      "\n",
      "Laporan klasifikasi:\n",
      "               precision    recall  f1-score   support\n",
      "\n",
      "          B3       0.00      0.00      0.00         2\n",
      "   anorganik       0.60      0.60      0.60         5\n",
      "     organik       0.78      1.00      0.88         7\n",
      "\n",
      "    accuracy                           0.71        14\n",
      "   macro avg       0.46      0.53      0.49        14\n",
      "weighted avg       0.60      0.71      0.65        14\n",
      "\n",
      "\n",
      "Prediksi jenis sampah (contoh data):\n",
      "'kulit pisang' → organik\n",
      "'botol kaca' → anorganik\n",
      "'kotak pizza' → organik\n",
      "'daun kering' → organik\n",
      "\n",
      "=== Klasifikasi Sampah dari Input Pengguna ===\n"
     ]
    },
    {
     "name": "stdin",
     "output_type": "stream",
     "text": [
      "Masukkan nama benda (atau ketik 'keluar' untuk berhenti):  mangga\n"
     ]
    },
    {
     "name": "stdout",
     "output_type": "stream",
     "text": [
      "Maaf, kata 'mangga' tidak dikenali dalam data pelatihan. Tidak dapat memprediksi.\n",
      "\n"
     ]
    },
    {
     "ename": "KeyboardInterrupt",
     "evalue": "Interrupted by user",
     "output_type": "error",
     "traceback": [
      "\u001b[1;31m---------------------------------------------------------------------------\u001b[0m",
      "\u001b[1;31mKeyboardInterrupt\u001b[0m                         Traceback (most recent call last)",
      "Cell \u001b[1;32mIn[20], line 43\u001b[0m\n\u001b[0;32m     41\u001b[0m \u001b[38;5;28mprint\u001b[39m(\u001b[38;5;124m\"\u001b[39m\u001b[38;5;130;01m\\n\u001b[39;00m\u001b[38;5;124m=== Klasifikasi Sampah dari Input Pengguna ===\u001b[39m\u001b[38;5;124m\"\u001b[39m)\n\u001b[0;32m     42\u001b[0m \u001b[38;5;28;01mwhile\u001b[39;00m \u001b[38;5;28;01mTrue\u001b[39;00m:\n\u001b[1;32m---> 43\u001b[0m     masukan \u001b[38;5;241m=\u001b[39m \u001b[38;5;28minput\u001b[39m(\u001b[38;5;124m\"\u001b[39m\u001b[38;5;124mMasukkan nama benda (atau ketik \u001b[39m\u001b[38;5;124m'\u001b[39m\u001b[38;5;124mkeluar\u001b[39m\u001b[38;5;124m'\u001b[39m\u001b[38;5;124m untuk berhenti): \u001b[39m\u001b[38;5;124m\"\u001b[39m)\u001b[38;5;241m.\u001b[39mstrip()\n\u001b[0;32m     44\u001b[0m     \u001b[38;5;28;01mif\u001b[39;00m masukan\u001b[38;5;241m.\u001b[39mlower() \u001b[38;5;241m==\u001b[39m \u001b[38;5;124m'\u001b[39m\u001b[38;5;124mkeluar\u001b[39m\u001b[38;5;124m'\u001b[39m:\n\u001b[0;32m     45\u001b[0m         \u001b[38;5;28mprint\u001b[39m(\u001b[38;5;124m\"\u001b[39m\u001b[38;5;124mProgram selesai.\u001b[39m\u001b[38;5;124m\"\u001b[39m)\n",
      "File \u001b[1;32m~\\anaconda3\\Lib\\site-packages\\ipykernel\\kernelbase.py:1262\u001b[0m, in \u001b[0;36mKernel.raw_input\u001b[1;34m(self, prompt)\u001b[0m\n\u001b[0;32m   1260\u001b[0m     msg \u001b[38;5;241m=\u001b[39m \u001b[38;5;124m\"\u001b[39m\u001b[38;5;124mraw_input was called, but this frontend does not support input requests.\u001b[39m\u001b[38;5;124m\"\u001b[39m\n\u001b[0;32m   1261\u001b[0m     \u001b[38;5;28;01mraise\u001b[39;00m StdinNotImplementedError(msg)\n\u001b[1;32m-> 1262\u001b[0m \u001b[38;5;28;01mreturn\u001b[39;00m \u001b[38;5;28mself\u001b[39m\u001b[38;5;241m.\u001b[39m_input_request(\n\u001b[0;32m   1263\u001b[0m     \u001b[38;5;28mstr\u001b[39m(prompt),\n\u001b[0;32m   1264\u001b[0m     \u001b[38;5;28mself\u001b[39m\u001b[38;5;241m.\u001b[39m_parent_ident[\u001b[38;5;124m\"\u001b[39m\u001b[38;5;124mshell\u001b[39m\u001b[38;5;124m\"\u001b[39m],\n\u001b[0;32m   1265\u001b[0m     \u001b[38;5;28mself\u001b[39m\u001b[38;5;241m.\u001b[39mget_parent(\u001b[38;5;124m\"\u001b[39m\u001b[38;5;124mshell\u001b[39m\u001b[38;5;124m\"\u001b[39m),\n\u001b[0;32m   1266\u001b[0m     password\u001b[38;5;241m=\u001b[39m\u001b[38;5;28;01mFalse\u001b[39;00m,\n\u001b[0;32m   1267\u001b[0m )\n",
      "File \u001b[1;32m~\\anaconda3\\Lib\\site-packages\\ipykernel\\kernelbase.py:1305\u001b[0m, in \u001b[0;36mKernel._input_request\u001b[1;34m(self, prompt, ident, parent, password)\u001b[0m\n\u001b[0;32m   1302\u001b[0m \u001b[38;5;28;01mexcept\u001b[39;00m \u001b[38;5;167;01mKeyboardInterrupt\u001b[39;00m:\n\u001b[0;32m   1303\u001b[0m     \u001b[38;5;66;03m# re-raise KeyboardInterrupt, to truncate traceback\u001b[39;00m\n\u001b[0;32m   1304\u001b[0m     msg \u001b[38;5;241m=\u001b[39m \u001b[38;5;124m\"\u001b[39m\u001b[38;5;124mInterrupted by user\u001b[39m\u001b[38;5;124m\"\u001b[39m\n\u001b[1;32m-> 1305\u001b[0m     \u001b[38;5;28;01mraise\u001b[39;00m \u001b[38;5;167;01mKeyboardInterrupt\u001b[39;00m(msg) \u001b[38;5;28;01mfrom\u001b[39;00m \u001b[38;5;28;01mNone\u001b[39;00m\n\u001b[0;32m   1306\u001b[0m \u001b[38;5;28;01mexcept\u001b[39;00m \u001b[38;5;167;01mException\u001b[39;00m:\n\u001b[0;32m   1307\u001b[0m     \u001b[38;5;28mself\u001b[39m\u001b[38;5;241m.\u001b[39mlog\u001b[38;5;241m.\u001b[39mwarning(\u001b[38;5;124m\"\u001b[39m\u001b[38;5;124mInvalid Message:\u001b[39m\u001b[38;5;124m\"\u001b[39m, exc_info\u001b[38;5;241m=\u001b[39m\u001b[38;5;28;01mTrue\u001b[39;00m)\n",
      "\u001b[1;31mKeyboardInterrupt\u001b[0m: Interrupted by user"
     ]
    }
   ],
   "source": [
    "import pandas as pd\n",
    "from sklearn.model_selection import train_test_split\n",
    "from sklearn.feature_extraction.text import CountVectorizer\n",
    "from sklearn.neighbors import KNeighborsClassifier\n",
    "from sklearn.metrics import classification_report, accuracy_score\n",
    "\n",
    "# 1. Membaca data dari file CSV\n",
    "data = pd.read_csv('waste_lengkap_fix.csv') \n",
    "data = data[['name', 'label']].dropna()\n",
    "\n",
    "# 2. Memisahkan fitur dan label\n",
    "X = data['name']\n",
    "y = data['label']\n",
    "\n",
    "# 3. Membagi data menjadi data latih dan uji\n",
    "X_latih, X_uji, y_latih, y_uji = train_test_split(X, y, test_size=0.2, random_state=42, stratify=y)\n",
    "\n",
    "# 4. Konversi teks ke vektor angka\n",
    "vektorizer = CountVectorizer()\n",
    "X_latih_vec = vektorizer.fit_transform(X_latih)\n",
    "X_uji_vec = vektorizer.transform(X_uji)\n",
    "\n",
    "# 5. Latih model KNN (K=3 bisa disesuaikan)\n",
    "model = KNeighborsClassifier(n_neighbors=3)\n",
    "model.fit(X_latih_vec, y_latih)\n",
    "\n",
    "# 6. Evaluasi model\n",
    "y_prediksi = model.predict(X_uji_vec)\n",
    "print(\"Akurasi model:\", accuracy_score(y_uji, y_prediksi))\n",
    "print(\"\\nLaporan klasifikasi:\\n\", classification_report(y_uji, y_prediksi))\n",
    "\n",
    "# 7. Prediksi daftar benda (statis)\n",
    "daftar_benda = [\"kulit pisang\", \"botol kaca\", \"kotak pizza\", \"daun kering\"]\n",
    "print(\"\\nPrediksi jenis sampah (contoh data):\")\n",
    "for benda in daftar_benda:\n",
    "    vektor = vektorizer.transform([benda])\n",
    "    prediksi = model.predict(vektor)[0]\n",
    "    print(f\"'{benda}' → {prediksi}\")\n",
    "\n",
    "# 8. Prediksi dari input pengguna\n",
    "print(\"\\n=== Klasifikasi Sampah dari Input Pengguna ===\")\n",
    "while True:\n",
    "    masukan = input(\"Masukkan nama benda (atau ketik 'keluar' untuk berhenti): \").strip()\n",
    "    if masukan.lower() == 'keluar':\n",
    "        print(\"Program selesai.\")\n",
    "        break\n",
    "\n",
    "    vektor_input = vektorizer.transform([masukan])\n",
    "    if vektor_input.nnz == 0:\n",
    "        print(f\"Maaf, kata '{masukan}' tidak dikenali dalam data pelatihan. Tidak dapat memprediksi.\\n\")\n",
    "        continue\n",
    "\n",
    "    hasil = model.predict(vektor_input)[0]\n",
    "    print(f\"Hasil prediksi: '{masukan}' termasuk jenis sampah → {hasil}\\n\")"
   ]
  },
  {
   "cell_type": "code",
   "execution_count": null,
   "id": "9badefb9-7973-4221-a2ae-d929faf51587",
   "metadata": {},
   "outputs": [
    {
     "name": "stderr",
     "output_type": "stream",
     "text": [
      "C:\\Users\\ASUS\\anaconda3\\Lib\\site-packages\\sklearn\\metrics\\_classification.py:1531: UndefinedMetricWarning: Precision is ill-defined and being set to 0.0 in labels with no predicted samples. Use `zero_division` parameter to control this behavior.\n",
      "  _warn_prf(average, modifier, f\"{metric.capitalize()} is\", len(result))\n",
      "C:\\Users\\ASUS\\anaconda3\\Lib\\site-packages\\sklearn\\metrics\\_classification.py:1531: UndefinedMetricWarning: Precision is ill-defined and being set to 0.0 in labels with no predicted samples. Use `zero_division` parameter to control this behavior.\n",
      "  _warn_prf(average, modifier, f\"{metric.capitalize()} is\", len(result))\n",
      "C:\\Users\\ASUS\\anaconda3\\Lib\\site-packages\\sklearn\\metrics\\_classification.py:1531: UndefinedMetricWarning: Precision is ill-defined and being set to 0.0 in labels with no predicted samples. Use `zero_division` parameter to control this behavior.\n",
      "  _warn_prf(average, modifier, f\"{metric.capitalize()} is\", len(result))\n"
     ]
    },
    {
     "name": "stdout",
     "output_type": "stream",
     "text": [
      "Akurasi model: 0.7142857142857143\n",
      "\n",
      "Laporan klasifikasi:\n",
      "               precision    recall  f1-score   support\n",
      "\n",
      "          B3       0.00      0.00      0.00         2\n",
      "   anorganik       0.60      0.60      0.60         5\n",
      "     organik       0.78      1.00      0.88         7\n",
      "\n",
      "    accuracy                           0.71        14\n",
      "   macro avg       0.46      0.53      0.49        14\n",
      "weighted avg       0.60      0.71      0.65        14\n",
      "\n",
      "\n",
      "Prediksi jenis sampah (contoh data):\n",
      "'kulit pisang' → organik\n",
      "'botol kaca' → anorganik\n",
      "'kotak pizza' → organik\n",
      "'daun kering' → organik\n",
      "'mangga' → organik\n",
      "'stroberi' → organik\n",
      "\n",
      "=== Klasifikasi Sampah dari Input Pengguna ===\n"
     ]
    },
    {
     "name": "stdin",
     "output_type": "stream",
     "text": [
      "Masukkan nama benda (atau ketik 'keluar' untuk berhenti):  rokok\n"
     ]
    },
    {
     "name": "stdout",
     "output_type": "stream",
     "text": [
      "Maaf, kata 'rokok' tidak dikenali dalam data pelatihan. Tidak dapat memprediksi.\n",
      "\n"
     ]
    },
    {
     "name": "stdin",
     "output_type": "stream",
     "text": [
      "Masukkan nama benda (atau ketik 'keluar' untuk berhenti):  kulit pisang\n"
     ]
    },
    {
     "name": "stdout",
     "output_type": "stream",
     "text": [
      "Hasil prediksi: 'kulit pisang' termasuk jenis sampah → organik\n",
      "\n"
     ]
    },
    {
     "name": "stdin",
     "output_type": "stream",
     "text": [
      "Masukkan nama benda (atau ketik 'keluar' untuk berhenti):  mangga\n"
     ]
    },
    {
     "name": "stdout",
     "output_type": "stream",
     "text": [
      "Hasil prediksi: 'mangga' termasuk jenis sampah → organik\n",
      "\n"
     ]
    },
    {
     "name": "stdin",
     "output_type": "stream",
     "text": [
      "Masukkan nama benda (atau ketik 'keluar' untuk berhenti):  sedotan\n"
     ]
    },
    {
     "name": "stdout",
     "output_type": "stream",
     "text": [
      "Hasil prediksi: 'sedotan' termasuk jenis sampah → B3\n",
      "\n"
     ]
    }
   ],
   "source": [
    "import pandas as pd\n",
    "from sklearn.model_selection import train_test_split\n",
    "from sklearn.feature_extraction.text import CountVectorizer\n",
    "from sklearn.neighbors import KNeighborsClassifier\n",
    "from sklearn.metrics import classification_report, accuracy_score\n",
    "\n",
    "# 1. Membaca data dari file CSV\n",
    "data = pd.read_csv('waste_lengkap_fix.csv') \n",
    "data = data[['name', 'label']].dropna()\n",
    "\n",
    "# 2. Memisahkan fitur dan label\n",
    "X = data['name']\n",
    "y = data['label']\n",
    "\n",
    "# 3. Membagi data menjadi data latih dan uji\n",
    "X_latih, X_uji, y_latih, y_uji = train_test_split(X, y, test_size=0.2, random_state=42, stratify=y)\n",
    "\n",
    "# 4. Fit vektorizer ke seluruh data supaya semua kata dikenali (termasuk \"mangga\")\n",
    "vektorizer = CountVectorizer()\n",
    "vektorizer.fit(X)  # Fit ke seluruh X, bukan hanya X_latih\n",
    "\n",
    "# 5. Transformasi data latih dan uji\n",
    "X_latih_vec = vektorizer.transform(X_latih)\n",
    "X_uji_vec = vektorizer.transform(X_uji)\n",
    "\n",
    "# 6. Latih model KNN\n",
    "model = KNeighborsClassifier(n_neighbors=3)\n",
    "model.fit(X_latih_vec, y_latih)\n",
    "\n",
    "# 7. Evaluasi model\n",
    "y_prediksi = model.predict(X_uji_vec)\n",
    "print(\"Akurasi model:\", accuracy_score(y_uji, y_prediksi))\n",
    "print(\"\\nLaporan klasifikasi:\\n\", classification_report(y_uji, y_prediksi))\n",
    "\n",
    "# 8. Prediksi daftar benda (statis)\n",
    "daftar_benda = [\"kulit pisang\", \"botol kaca\", \"kotak pizza\", \"daun kering\", \"mangga\", \"stroberi\"]\n",
    "print(\"\\nPrediksi jenis sampah (contoh data):\")\n",
    "for benda in daftar_benda:\n",
    "    vektor = vektorizer.transform([benda])\n",
    "    prediksi = model.predict(vektor)[0]\n",
    "    print(f\"'{benda}' → {prediksi}\")\n",
    "\n",
    "# 9. Prediksi dari input pengguna\n",
    "print(\"\\n=== Klasifikasi Sampah dari Input Pengguna ===\")\n",
    "while True:\n",
    "    masukan = input(\"Masukkan nama benda (atau ketik 'keluar' untuk berhenti): \").strip()\n",
    "    if masukan.lower() == 'keluar':\n",
    "        print(\"Program selesai.\")\n",
    "        break\n",
    "\n",
    "    vektor_input = vektorizer.transform([masukan])\n",
    "    if vektor_input.nnz == 0:\n",
    "        print(f\"Maaf, kata '{masukan}' tidak dikenali dalam data pelatihan. Tidak dapat memprediksi.\\n\")\n",
    "        continue\n",
    "\n",
    "    hasil = model.predict(vektor_input)[0]\n",
    "    print(f\"Hasil prediksi: '{masukan}' termasuk jenis sampah → {hasil}\\n\")\n"
   ]
  },
  {
   "cell_type": "code",
   "execution_count": null,
   "id": "5e0f7896-e5b4-4234-809d-4dbb7d24df29",
   "metadata": {},
   "outputs": [],
   "source": []
  }
 ],
 "metadata": {
  "kernelspec": {
   "display_name": "Python [conda env:base] *",
   "language": "python",
   "name": "conda-base-py"
  },
  "language_info": {
   "codemirror_mode": {
    "name": "ipython",
    "version": 3
   },
   "file_extension": ".py",
   "mimetype": "text/x-python",
   "name": "python",
   "nbconvert_exporter": "python",
   "pygments_lexer": "ipython3",
   "version": "3.12.7"
  }
 },
 "nbformat": 4,
 "nbformat_minor": 5
}
